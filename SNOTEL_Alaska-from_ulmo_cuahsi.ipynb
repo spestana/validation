{
 "cells": [
  {
   "cell_type": "markdown",
   "metadata": {
    "pycharm": {
     "name": "#%% md\n"
    }
   },
   "source": [
    "# ulmo SNOTEL Alaska example + MountainHub observations\n",
    "\n",
    "2/25-20/2020. https://github.com/emiliom/\n",
    "\n",
    "- Use `ulmo.cuahsi.wof.get_sites` function to ingest all SNOTEL sites, then clip to the specified bounding box (in Alaska).\n",
    "- Explore adding additional site and variable information using `ulmo.cuahsi.wof.get_site_info` and `ulmo.cuahsi.wof.get_variable_info`\n",
    "- Select one site and variable, then use `ulmo.cuahsi.wof.get_values` to obtain the corresponding time series, from start to end. Post-process the time series data, then plot it together with site and variable metadata\n",
    "- Issue a request for MountainHub observations from the same bounding box\n",
    "- Finally, plot both filtered (clipped) SNOTEL and MountainHub sites on an interactive Folium map, with clickable markers.\n",
    "\n",
    "For additional code on how to read the time series data with `ulmo.cuahsi.wof.get_values`, see:\n",
    "- This notebook focused on SNOTEL, but beware that it's 3 years old and some things may no longer work: https://github.com/uwescience/Python-for-geosciences/blob/master/20170307/ulmo-Snotel-cuahsiwof.ipynb\n",
    "- This recent notebook, but for a different data source, not SNOTEL; see code starting at cell 14: https://nbviewer.jupyter.org/github/waterhackweek/tsdata_access/blob/master/Part2-ulmo_nwis_and_cuahsi.ipynb"
   ]
  },
  {
   "cell_type": "code",
   "execution_count": 1,
   "metadata": {
    "pycharm": {
     "name": "#%%\n"
    }
   },
   "outputs": [],
   "source": [
    "%matplotlib inline\n",
    "\n",
    "from collections import OrderedDict\n",
    "from datetime import datetime, timedelta\n",
    "import pytz\n",
    "import matplotlib.pyplot as plt\n",
    "import numpy as np\n",
    "import pandas as pd\n",
    "import geopandas as gpd\n",
    "from shapely import geometry as sgeom\n",
    "import folium\n",
    "\n",
    "import ulmo\n",
    "from ulmo.util import convert_datetime\n",
    "\n",
    "import mtnhubsnow as mh"
   ]
  },
  {
   "cell_type": "code",
   "execution_count": 2,
   "metadata": {
    "pycharm": {
     "name": "#%%\n"
    }
   },
   "outputs": [
    {
     "data": {
      "text/plain": [
       "('0.8.5', '0.7.0')"
      ]
     },
     "execution_count": 2,
     "metadata": {},
     "output_type": "execute_result"
    }
   ],
   "source": [
    "ulmo.__version__, gpd.__version__"
   ]
  },
  {
   "cell_type": "code",
   "execution_count": 3,
   "metadata": {
    "pycharm": {
     "name": "#%%\n"
    }
   },
   "outputs": [],
   "source": [
    "def sites_asgdf(ulmo_getsites, crs='epsg:4326'):\n",
    "    \"\"\" Convert ulmo.cuahsi.wof.get_sites response into a point GeoDataframe\n",
    "    \"\"\"\n",
    "    \n",
    "    # Note: Found one SNOTEL site that was missing the location key\n",
    "    sites_df = pd.DataFrame.from_records([\n",
    "        OrderedDict(code=s['code'], \n",
    "        longitude=float(s['location']['longitude']), \n",
    "        latitude=float(s['location']['latitude']), \n",
    "        name=s['name'], \n",
    "        elevation_m=s['elevation_m'])\n",
    "        for _,s in ulmo_getsites.items()\n",
    "        if 'location' in s\n",
    "    ])\n",
    "\n",
    "    sites_gdf = gpd.GeoDataFrame(\n",
    "        sites_df, \n",
    "        geometry=gpd.points_from_xy(sites_df['longitude'], sites_df['latitude']),\n",
    "        crs=crs\n",
    "    )\n",
    "    return sites_gdf"
   ]
  },
  {
   "cell_type": "markdown",
   "metadata": {
    "pycharm": {
     "name": "#%% md\n"
    }
   },
   "source": [
    "Note that some sites have this extra entry in the `get_sites` response:\n",
    "```python\n",
    "'site_property': {\n",
    "    'county': 'Modoc',\n",
    "    'state': 'California',\n",
    "    'site_comments': 'beginDate=10/1/1983 12:00:00 AM|endDate=1/1/2100 12:00:00 AM|HUC=180200021403|HUD=18020002|TimeZone=-8.0|actonId=20H13S|shefId=ADMC1|stationTriplet=301:CA:SNTL|isActive=True',\n",
    "    'pos_accuracy_m': '0'}\n",
    "```\n",
    "\n",
    "Enhance `sites_asgdf` to accommodate the optional `site_property` entry and its contents that may have a variable set of attribute (dict key) names."
   ]
  },
  {
   "cell_type": "markdown",
   "metadata": {
    "pycharm": {
     "name": "#%% md\n"
    }
   },
   "source": [
    "## Set selection box as geodataframe"
   ]
  },
  {
   "cell_type": "code",
   "execution_count": 4,
   "metadata": {
    "pycharm": {
     "name": "#%%\n"
    }
   },
   "outputs": [],
   "source": [
    "# Search Area -- a region in Alaska\n",
    "\n",
    "# The dictionary keys adhere to the mtnhubsnow snow_data function requirement\n",
    "box = {\n",
    "    'latmax' : 75,\n",
    "    'latmin' : 54,\n",
    "    'lonmax': -140,\n",
    "    'lonmin': -170,\n",
    "}\n",
    "\n",
    "# First convert the bounding box dictionary to a shapely Polygon geometry using sgeom.box\n",
    "box_sgeom = sgeom.box(box['lonmin'], box['latmin'], box['lonmax'], box['latmax'])"
   ]
  },
  {
   "cell_type": "code",
   "execution_count": 5,
   "metadata": {
    "pycharm": {
     "name": "#%%\n"
    }
   },
   "outputs": [],
   "source": [
    "box_gdf = gpd.GeoDataFrame(geometry=[box_sgeom], crs='epsg:4326')"
   ]
  },
  {
   "cell_type": "markdown",
   "metadata": {
    "pycharm": {
     "name": "#%% md\n"
    }
   },
   "source": [
    "## Issue ulmo SNOTEL request"
   ]
  },
  {
   "cell_type": "code",
   "execution_count": 6,
   "metadata": {
    "pycharm": {
     "name": "#%%\n"
    }
   },
   "outputs": [],
   "source": [
    "# WaterML/WOF WSDL endpoint url and Network Code\n",
    "wsdlurl = \"http://hydroportal.cuahsi.org/Snotel/cuahsi_1_1.asmx?WSDL\"\n",
    "networkcd = \"SNOTEL\""
   ]
  },
  {
   "cell_type": "code",
   "execution_count": 7,
   "metadata": {
    "pycharm": {
     "name": "#%%\n"
    }
   },
   "outputs": [],
   "source": [
    "sites = ulmo.cuahsi.wof.get_sites(wsdlurl)"
   ]
  },
  {
   "cell_type": "code",
   "execution_count": 8,
   "metadata": {
    "pycharm": {
     "name": "#%%\n"
    }
   },
   "outputs": [
    {
     "data": {
      "text/plain": [
       "(dict, 931)"
      ]
     },
     "execution_count": 8,
     "metadata": {},
     "output_type": "execute_result"
    }
   ],
   "source": [
    "type(sites), len(sites)"
   ]
  },
  {
   "cell_type": "code",
   "execution_count": 9,
   "metadata": {
    "pycharm": {
     "name": "#%%\n"
    }
   },
   "outputs": [
    {
     "data": {
      "text/plain": [
       "['SNOTEL:301_CA_SNTL',\n",
       " 'SNOTEL:907_UT_SNTL',\n",
       " 'SNOTEL:916_MT_SNTL',\n",
       " 'SNOTEL:1267_AK_SNTL',\n",
       " 'SNOTEL:908_WA_SNTL']"
      ]
     },
     "execution_count": 9,
     "metadata": {},
     "output_type": "execute_result"
    }
   ],
   "source": [
    "list(sites.keys())[:5]"
   ]
  },
  {
   "cell_type": "code",
   "execution_count": 10,
   "metadata": {
    "pycharm": {
     "name": "#%%\n"
    }
   },
   "outputs": [
    {
     "data": {
      "text/plain": [
       "{'code': '301_CA_SNTL',\n",
       " 'name': 'Adin Mtn',\n",
       " 'network': 'SNOTEL',\n",
       " 'location': {'latitude': '41.2358283996582',\n",
       "  'longitude': '-120.79192352294922'},\n",
       " 'elevation_m': '1886.7120361328125',\n",
       " 'site_property': {'county': 'Modoc',\n",
       "  'state': 'California',\n",
       "  'site_comments': 'beginDate=10/1/1983 12:00:00 AM|endDate=1/1/2100 12:00:00 AM|HUC=180200021403|HUD=18020002|TimeZone=-8.0|actonId=20H13S|shefId=ADMC1|stationTriplet=301:CA:SNTL|isActive=True',\n",
       "  'pos_accuracy_m': '0'}}"
      ]
     },
     "execution_count": 10,
     "metadata": {},
     "output_type": "execute_result"
    }
   ],
   "source": [
    "sites[list(sites.keys())[0]]"
   ]
  },
  {
   "cell_type": "markdown",
   "metadata": {
    "pycharm": {
     "name": "#%% md\n"
    }
   },
   "source": [
    "## Convert sites to geodataframe, then clip to selection box"
   ]
  },
  {
   "cell_type": "code",
   "execution_count": 11,
   "metadata": {
    "pycharm": {
     "name": "#%%\n"
    }
   },
   "outputs": [
    {
     "data": {
      "text/plain": [
       "{'code': '1033_CO_SNTL',\n",
       " 'name': 'Zirkel',\n",
       " 'network': 'SNOTEL',\n",
       " 'location': {'latitude': '40.794879913330078',\n",
       "  'longitude': '-106.59535217285156'},\n",
       " 'elevation_m': '2846.83203125',\n",
       " 'site_property': {'county': 'Jackson',\n",
       "  'state': 'Colorado',\n",
       "  'site_comments': 'beginDate=8/14/2002 6:00:00 AM|endDate=1/1/2100 12:00:00 AM|HUC=101800010202|HUD=10180001|TimeZone=-8.0|actonId=06J19S|shefId=ZIRC2|stationTriplet=1033:CO:SNTL|isActive=True',\n",
       "  'pos_accuracy_m': '0'}}"
      ]
     },
     "execution_count": 11,
     "metadata": {},
     "output_type": "execute_result"
    }
   ],
   "source": [
    "sites[list(sites.keys())[-1]]"
   ]
  },
  {
   "cell_type": "code",
   "execution_count": 12,
   "metadata": {
    "pycharm": {
     "name": "#%%\n"
    }
   },
   "outputs": [],
   "source": [
    "sites_gdf = sites_asgdf(sites)"
   ]
  },
  {
   "cell_type": "markdown",
   "metadata": {
    "pycharm": {
     "name": "#%% md\n"
    }
   },
   "source": [
    "Use a GeoPandas spatial join (`sjoin`) to clip the `sites_gdf` geodataframe to the `box_gdf` polygonal geodataframe. `box_gdf` could be replaced by *any* polygonal geodataframe, not just a rectangular bounding box."
   ]
  },
  {
   "cell_type": "code",
   "execution_count": 13,
   "metadata": {
    "pycharm": {
     "name": "#%%\n"
    }
   },
   "outputs": [],
   "source": [
    "sites_box_gdf = gpd.sjoin(sites_gdf, box_gdf, how=\"inner\")\n",
    "sites_box_gdf.drop(columns='index_right', inplace=True)"
   ]
  },
  {
   "cell_type": "code",
   "execution_count": 14,
   "metadata": {
    "pycharm": {
     "name": "#%%\n"
    }
   },
   "outputs": [
    {
     "data": {
      "text/plain": [
       "61"
      ]
     },
     "execution_count": 14,
     "metadata": {},
     "output_type": "execute_result"
    }
   ],
   "source": [
    "len(sites_box_gdf)"
   ]
  },
  {
   "cell_type": "code",
   "execution_count": 15,
   "metadata": {
    "pycharm": {
     "name": "#%%\n"
    }
   },
   "outputs": [
    {
     "data": {
      "text/html": [
       "<div>\n",
       "<style scoped>\n",
       "    .dataframe tbody tr th:only-of-type {\n",
       "        vertical-align: middle;\n",
       "    }\n",
       "\n",
       "    .dataframe tbody tr th {\n",
       "        vertical-align: top;\n",
       "    }\n",
       "\n",
       "    .dataframe thead th {\n",
       "        text-align: right;\n",
       "    }\n",
       "</style>\n",
       "<table border=\"1\" class=\"dataframe\">\n",
       "  <thead>\n",
       "    <tr style=\"text-align: right;\">\n",
       "      <th></th>\n",
       "      <th>code</th>\n",
       "      <th>longitude</th>\n",
       "      <th>latitude</th>\n",
       "      <th>name</th>\n",
       "      <th>elevation_m</th>\n",
       "      <th>geometry</th>\n",
       "    </tr>\n",
       "  </thead>\n",
       "  <tbody>\n",
       "    <tr>\n",
       "      <th>3</th>\n",
       "      <td>1267_AK_SNTL</td>\n",
       "      <td>-150.889664</td>\n",
       "      <td>61.749668</td>\n",
       "      <td>Alexander Lake</td>\n",
       "      <td>48.768001556396484</td>\n",
       "      <td>POINT (-150.88966 61.74967)</td>\n",
       "    </tr>\n",
       "    <tr>\n",
       "      <th>5</th>\n",
       "      <td>1189_AK_SNTL</td>\n",
       "      <td>-141.233765</td>\n",
       "      <td>64.789688</td>\n",
       "      <td>American Creek</td>\n",
       "      <td>320.04000854492188</td>\n",
       "      <td>POINT (-141.23376 64.78969)</td>\n",
       "    </tr>\n",
       "    <tr>\n",
       "      <th>6</th>\n",
       "      <td>1062_AK_SNTL</td>\n",
       "      <td>-151.315002</td>\n",
       "      <td>59.859718</td>\n",
       "      <td>Anchor River Divide</td>\n",
       "      <td>503.83441162109375</td>\n",
       "      <td>POINT (-151.31500 59.85972)</td>\n",
       "    </tr>\n",
       "    <tr>\n",
       "      <th>7</th>\n",
       "      <td>1070_AK_SNTL</td>\n",
       "      <td>-149.666824</td>\n",
       "      <td>61.114830</td>\n",
       "      <td>Anchorage Hillside</td>\n",
       "      <td>633.9840087890625</td>\n",
       "      <td>POINT (-149.66682 61.11483)</td>\n",
       "    </tr>\n",
       "    <tr>\n",
       "      <th>14</th>\n",
       "      <td>957_AK_SNTL</td>\n",
       "      <td>-149.478165</td>\n",
       "      <td>68.129829</td>\n",
       "      <td>Atigun Pass</td>\n",
       "      <td>1463.0400390625</td>\n",
       "      <td>POINT (-149.47816 68.12983)</td>\n",
       "    </tr>\n",
       "  </tbody>\n",
       "</table>\n",
       "</div>"
      ],
      "text/plain": [
       "            code   longitude   latitude                 name  \\\n",
       "3   1267_AK_SNTL -150.889664  61.749668       Alexander Lake   \n",
       "5   1189_AK_SNTL -141.233765  64.789688       American Creek   \n",
       "6   1062_AK_SNTL -151.315002  59.859718  Anchor River Divide   \n",
       "7   1070_AK_SNTL -149.666824  61.114830   Anchorage Hillside   \n",
       "14   957_AK_SNTL -149.478165  68.129829          Atigun Pass   \n",
       "\n",
       "           elevation_m                     geometry  \n",
       "3   48.768001556396484  POINT (-150.88966 61.74967)  \n",
       "5   320.04000854492188  POINT (-141.23376 64.78969)  \n",
       "6   503.83441162109375  POINT (-151.31500 59.85972)  \n",
       "7    633.9840087890625  POINT (-149.66682 61.11483)  \n",
       "14     1463.0400390625  POINT (-149.47816 68.12983)  "
      ]
     },
     "execution_count": 15,
     "metadata": {},
     "output_type": "execute_result"
    }
   ],
   "source": [
    "sites_box_gdf.head()"
   ]
  },
  {
   "cell_type": "code",
   "execution_count": 16,
   "metadata": {
    "pycharm": {
     "name": "#%%\n"
    }
   },
   "outputs": [
    {
     "data": {
      "image/png": "[encoded data removed]",
      "text/plain": [
       "<Figure size 432x288 with 1 Axes>"
      ]
     },
     "metadata": {
      "needs_background": "light"
     },
     "output_type": "display_data"
    }
   ],
   "source": [
    "sites_box_gdf.plot();"
   ]
  },
  {
   "cell_type": "markdown",
   "metadata": {
    "pycharm": {
     "name": "#%% md\n"
    }
   },
   "source": [
    "## get_site_info\n",
    "`get_site_info` will return the variables available at each site. That information will allow for a refinement to the selection, before issuing time series requests."
   ]
  },
  {
   "cell_type": "markdown",
   "metadata": {
    "pycharm": {
     "name": "#%% md\n"
    }
   },
   "source": [
    "### Examine the first site in `sites_box_gdf`"
   ]
  },
  {
   "cell_type": "code",
   "execution_count": 17,
   "metadata": {
    "pycharm": {
     "name": "#%%\n"
    }
   },
   "outputs": [
    {
     "data": {
      "text/plain": [
       "'1267_AK_SNTL'"
      ]
     },
     "execution_count": 17,
     "metadata": {},
     "output_type": "execute_result"
    }
   ],
   "source": [
    "sitecd = sites_box_gdf['code'].iloc[0]\n",
    "sitecd"
   ]
  },
  {
   "cell_type": "code",
   "execution_count": 18,
   "metadata": {
    "pycharm": {
     "name": "#%%\n"
    }
   },
   "outputs": [],
   "source": [
    "siteinfo = ulmo.cuahsi.wof.get_site_info(wsdlurl, f\"{networkcd}:{sitecd}\")"
   ]
  },
  {
   "cell_type": "code",
   "execution_count": 19,
   "metadata": {
    "pycharm": {
     "name": "#%%\n"
    }
   },
   "outputs": [
    {
     "data": {
      "text/plain": [
       "('SNOTEL', '1267_AK_SNTL', 'Alexander Lake')"
      ]
     },
     "execution_count": 19,
     "metadata": {},
     "output_type": "execute_result"
    }
   ],
   "source": [
    "siteinfo['network'], siteinfo['code'], siteinfo['name']"
   ]
  },
  {
   "cell_type": "code",
   "execution_count": 20,
   "metadata": {
    "pycharm": {
     "name": "#%%\n"
    }
   },
   "outputs": [
    {
     "data": {
      "text/plain": [
       "dict_keys(['code', 'name', 'network', 'location', 'elevation_m', 'site_property', 'series'])"
      ]
     },
     "execution_count": 20,
     "metadata": {},
     "output_type": "execute_result"
    }
   ],
   "source": [
    "siteinfo.keys()"
   ]
  },
  {
   "cell_type": "markdown",
   "metadata": {
    "pycharm": {
     "name": "#%% md\n"
    }
   },
   "source": [
    "Each `series` is the time series for a variable."
   ]
  },
  {
   "cell_type": "code",
   "execution_count": 21,
   "metadata": {
    "pycharm": {
     "name": "#%%\n"
    }
   },
   "outputs": [
    {
     "data": {
      "text/plain": [
       "dict_keys(['SNOTEL:BATT_D', 'SNOTEL:BATT_H', 'SNOTEL:PRCP_y', 'SNOTEL:PRCP_sm', 'SNOTEL:PRCP_m', 'SNOTEL:PRCP_wy', 'SNOTEL:PRCPSA_y', 'SNOTEL:PRCPSA_D', 'SNOTEL:PRCPSA_sm', 'SNOTEL:PRCPSA_m', 'SNOTEL:PRCPSA_wy', 'SNOTEL:PREC_sm', 'SNOTEL:PREC_m', 'SNOTEL:SNWD_D', 'SNOTEL:SNWD_sm', 'SNOTEL:SNWD_H', 'SNOTEL:SNWD_m', 'SNOTEL:TAVG_y', 'SNOTEL:TAVG_D', 'SNOTEL:TAVG_sm', 'SNOTEL:TAVG_m', 'SNOTEL:TAVG_wy', 'SNOTEL:TMAX_y', 'SNOTEL:TMAX_D', 'SNOTEL:TMAX_sm', 'SNOTEL:TMAX_m', 'SNOTEL:TMAX_wy', 'SNOTEL:TMIN_y', 'SNOTEL:TMIN_D', 'SNOTEL:TMIN_sm', 'SNOTEL:TMIN_m', 'SNOTEL:TMIN_wy', 'SNOTEL:TOBS_D', 'SNOTEL:TOBS_sm', 'SNOTEL:TOBS_H', 'SNOTEL:TOBS_m', 'SNOTEL:WTEQ_D', 'SNOTEL:WTEQ_sm', 'SNOTEL:WTEQ_H', 'SNOTEL:WTEQ_m'])"
      ]
     },
     "execution_count": 21,
     "metadata": {},
     "output_type": "execute_result"
    }
   ],
   "source": [
    "siteinfo['series'].keys()"
   ]
  },
  {
   "cell_type": "code",
   "execution_count": 22,
   "metadata": {
    "pycharm": {
     "name": "#%%\n"
    }
   },
   "outputs": [
    {
     "data": {
      "text/plain": [
       "['variable',\n",
       " '{http://www.cuahsi.org/water_ml/1.1/}method',\n",
       " '{http://www.cuahsi.org/water_ml/1.1/}source',\n",
       " '{http://www.cuahsi.org/water_ml/1.1/}quality_control_level',\n",
       " '{http://www.cuahsi.org/water_ml/1.1/}variable_time_interval',\n",
       " '{http://www.cuahsi.org/water_ml/1.1/}value_count']"
      ]
     },
     "execution_count": 22,
     "metadata": {},
     "output_type": "execute_result"
    }
   ],
   "source": [
    "list(siteinfo['series']['SNOTEL:WTEQ_D'].keys())"
   ]
  },
  {
   "cell_type": "code",
   "execution_count": 23,
   "metadata": {
    "pycharm": {
     "name": "#%%\n"
    }
   },
   "outputs": [
    {
     "data": {
      "text/plain": [
       "{'value_type': 'Field Observation',\n",
       " 'data_type': 'Continuous',\n",
       " 'general_category': 'Soil',\n",
       " 'sample_medium': 'Snow',\n",
       " 'no_data_value': '-9999',\n",
       " 'speciation': 'Not Applicable',\n",
       " 'code': 'WTEQ_D',\n",
       " 'id': '310',\n",
       " 'name': 'Snow water equivalent',\n",
       " 'vocabulary': 'SNOTEL',\n",
       " 'time': {'is_regular': True,\n",
       "  'interval': '1',\n",
       "  'units': {'abbreviation': 'd',\n",
       "   'code': '104',\n",
       "   'name': 'day',\n",
       "   'type': 'Time'}},\n",
       " 'units': {'abbreviation': 'in',\n",
       "  'code': '49',\n",
       "  'name': 'international inch',\n",
       "  'type': 'Length'}}"
      ]
     },
     "execution_count": 23,
     "metadata": {},
     "output_type": "execute_result"
    }
   ],
   "source": [
    "siteinfo['series']['SNOTEL:WTEQ_D']['variable']"
   ]
  },
  {
   "cell_type": "code",
   "execution_count": 24,
   "metadata": {
    "pycharm": {
     "name": "#%%\n"
    }
   },
   "outputs": [
    {
     "data": {
      "text/plain": [
       "{'variable_time_interval_type': 'TimeIntervalType',\n",
       " 'begin_date_time': '2014-08-28T00:00:00',\n",
       " 'end_date_time': '2020-03-02T00:00:00',\n",
       " 'begin_date_time_utc': '2014-08-28T00:00:00',\n",
       " 'end_date_time_utc': '2020-03-02T00:00:00'}"
      ]
     },
     "execution_count": 24,
     "metadata": {},
     "output_type": "execute_result"
    }
   ],
   "source": [
    "siteinfo['series']['SNOTEL:WTEQ_D']['{http://www.cuahsi.org/water_ml/1.1/}variable_time_interval']"
   ]
  },
  {
   "cell_type": "markdown",
   "metadata": {
    "pycharm": {
     "name": "#%% md\n"
    }
   },
   "source": [
    "Issue `get_site_info` requests on all sites in `sites_box_gdf`. Create new gdf with only sites that have a specific variable `name` (not just variable `code`). Include `begin_date_time` and `end_date_time`"
   ]
  },
  {
   "cell_type": "markdown",
   "metadata": {
    "pycharm": {
     "name": "#%% md\n"
    }
   },
   "source": [
    "### Now query for `get_site_info` information from all sites in `sites_box_gdf` that have the variable SNOTEL:WTEQ_D\n",
    "This can be slow if there are many sites!"
   ]
  },
  {
   "cell_type": "code",
   "execution_count": 25,
   "metadata": {
    "pycharm": {
     "name": "#%%\n"
    }
   },
   "outputs": [],
   "source": [
    "varcd = 'SNOTEL:WTEQ_D'"
   ]
  },
  {
   "cell_type": "code",
   "execution_count": 46,
   "metadata": {
    "pycharm": {
     "name": "#%%\n"
    }
   },
   "outputs": [],
   "source": [
    "siteinfo_variable_extract = []\n",
    "for i,site in sites_box_gdf.iterrows():\n",
    "    siteinfo = ulmo.cuahsi.wof.get_site_info(wsdlurl, f\"{networkcd}:{site['code']}\")\n",
    "    # For now, select series based on the variable code, not the name (which spans multiple codes)\n",
    "    if varcd in siteinfo['series']:\n",
    "        series = siteinfo['series'][varcd]\n",
    "        time_interval = series['{http://www.cuahsi.org/water_ml/1.1/}variable_time_interval']\n",
    "        siteinfo_extract = (\n",
    "            siteinfo['code'],\n",
    "            int(series['{http://www.cuahsi.org/water_ml/1.1/}value_count']['value_count']),\n",
    "            time_interval['begin_date_time'],\n",
    "            time_interval['end_date_time'],\n",
    "            series['variable']['no_data_value'],\n",
    "            series['variable']['time']['units']['name']\n",
    "        )\n",
    "        siteinfo_variable_extract.append(siteinfo_extract)"
   ]
  },
  {
   "cell_type": "code",
   "execution_count": 47,
   "metadata": {
    "pycharm": {
     "name": "#%%\n"
    }
   },
   "outputs": [
    {
     "data": {
      "text/plain": [
       "41"
      ]
     },
     "execution_count": 47,
     "metadata": {},
     "output_type": "execute_result"
    }
   ],
   "source": [
    "len(siteinfo_variable_extract)"
   ]
  },
  {
   "cell_type": "code",
   "execution_count": 48,
   "metadata": {
    "pycharm": {
     "name": "#%%\n"
    }
   },
   "outputs": [
    {
     "data": {
      "text/plain": [
       "[('1267_AK_SNTL',\n",
       "  2008,\n",
       "  '2014-08-28T00:00:00',\n",
       "  '2020-03-02T00:00:00',\n",
       "  '-9999',\n",
       "  'day'),\n",
       " ('1189_AK_SNTL',\n",
       "  3128,\n",
       "  '2011-08-04T00:00:00',\n",
       "  '2020-03-02T00:00:00',\n",
       "  '-9999',\n",
       "  'day'),\n",
       " ('1062_AK_SNTL',\n",
       "  14392,\n",
       "  '1980-10-01T00:00:00',\n",
       "  '2020-03-02T00:00:00',\n",
       "  '-9999',\n",
       "  'day'),\n",
       " ('1070_AK_SNTL',\n",
       "  5361,\n",
       "  '2005-06-23T00:00:00',\n",
       "  '2020-03-02T00:00:00',\n",
       "  '-9999',\n",
       "  'day'),\n",
       " ('1182_AK_SNTL',\n",
       "  11417,\n",
       "  '1980-10-01T00:00:00',\n",
       "  '2012-01-04T00:00:00',\n",
       "  '-9999',\n",
       "  'day'),\n",
       " ('1093_AK_SNTL',\n",
       "  4226,\n",
       "  '2008-08-01T00:00:00',\n",
       "  '2020-03-02T00:00:00',\n",
       "  '-9999',\n",
       "  'day'),\n",
       " ('958_AK_SNTL',\n",
       "  9128,\n",
       "  '1995-03-01T00:00:00',\n",
       "  '2020-03-02T00:00:00',\n",
       "  '-9999',\n",
       "  'day'),\n",
       " ('959_AK_SNTL',\n",
       "  14027,\n",
       "  '1981-10-01T00:00:00',\n",
       "  '2020-03-02T00:00:00',\n",
       "  '-9999',\n",
       "  'day'),\n",
       " ('1092_AK_SNTL',\n",
       "  3158,\n",
       "  '2011-07-05T00:00:00',\n",
       "  '2020-03-02T00:00:00',\n",
       "  '-9999',\n",
       "  'day'),\n",
       " ('1174_AK_SNTL',\n",
       "  13662,\n",
       "  '1982-10-01T00:00:00',\n",
       "  '2020-03-02T00:00:00',\n",
       "  '-9999',\n",
       "  'day'),\n",
       " ('1268_AK_SNTL',\n",
       "  135,\n",
       "  '2019-10-14T04:00:00',\n",
       "  '2020-03-02T00:00:00',\n",
       "  '-9999',\n",
       "  'day'),\n",
       " ('956_AK_SNTL',\n",
       "  10375,\n",
       "  '1991-10-01T00:00:00',\n",
       "  '2020-03-02T00:00:00',\n",
       "  '-9999',\n",
       "  'day'),\n",
       " ('963_AK_SNTL',\n",
       "  11470,\n",
       "  '1988-10-01T00:00:00',\n",
       "  '2020-03-02T00:00:00',\n",
       "  '-9999',\n",
       "  'day'),\n",
       " ('964_AK_SNTL',\n",
       "  8397,\n",
       "  '1997-03-01T00:00:00',\n",
       "  '2020-03-02T00:00:00',\n",
       "  '-9999',\n",
       "  'day'),\n",
       " ('1091_AK_SNTL',\n",
       "  7087,\n",
       "  '2000-10-01T00:00:00',\n",
       "  '2020-03-02T00:00:00',\n",
       "  '-9999',\n",
       "  'day'),\n",
       " ('946_AK_SNTL',\n",
       "  14758,\n",
       "  '1979-10-01T00:00:00',\n",
       "  '2020-03-02T00:00:00',\n",
       "  '-9999',\n",
       "  'day'),\n",
       " ('1275_AK_SNTL',\n",
       "  1609,\n",
       "  '2015-10-01T00:00:00',\n",
       "  '2020-03-02T00:00:00',\n",
       "  '-9999',\n",
       "  'day'),\n",
       " ('1072_AK_SNTL',\n",
       "  168,\n",
       "  '2019-09-11T08:00:00',\n",
       "  '2020-03-02T00:00:00',\n",
       "  '-9999',\n",
       "  'day'),\n",
       " ('1175_AK_SNTL',\n",
       "  7033,\n",
       "  '1992-10-01T00:00:00',\n",
       "  '2012-01-03T00:00:00',\n",
       "  '-9999',\n",
       "  'day'),\n",
       " ('966_AK_SNTL',\n",
       "  11470,\n",
       "  '1988-10-01T00:00:00',\n",
       "  '2020-03-02T00:00:00',\n",
       "  '-9999',\n",
       "  'day'),\n",
       " ('947_AK_SNTL',\n",
       "  14027,\n",
       "  '1981-10-01T00:00:00',\n",
       "  '2020-03-02T00:00:00',\n",
       "  '-9999',\n",
       "  'day'),\n",
       " ('1096_AK_SNTL',\n",
       "  4592,\n",
       "  '2007-08-01T00:00:00',\n",
       "  '2020-03-02T00:00:00',\n",
       "  '-9999',\n",
       "  'day'),\n",
       " ('1003_AK_SNTL',\n",
       "  12201,\n",
       "  '1986-10-01T00:00:00',\n",
       "  '2020-03-02T00:00:00',\n",
       "  '-9999',\n",
       "  'day'),\n",
       " ('1094_AK_SNTL',\n",
       "  548,\n",
       "  '2018-08-27T13:00:00',\n",
       "  '2020-03-02T00:00:00',\n",
       "  '-9999',\n",
       "  'day'),\n",
       " ('949_AK_SNTL',\n",
       "  14392,\n",
       "  '1980-10-01T00:00:00',\n",
       "  '2020-03-02T00:00:00',\n",
       "  '-9999',\n",
       "  'day'),\n",
       " ('1035_AK_SNTL',\n",
       "  6571,\n",
       "  '2002-03-01T00:00:00',\n",
       "  '2020-03-02T00:00:00',\n",
       "  '-9999',\n",
       "  'day'),\n",
       " ('1103_AK_SNTL',\n",
       "  17314,\n",
       "  '1972-10-01T00:00:00',\n",
       "  '2020-03-02T00:00:00',\n",
       "  '-9999',\n",
       "  'day'),\n",
       " ('1073_AK_SNTL',\n",
       "  5284,\n",
       "  '2005-09-08T00:00:00',\n",
       "  '2020-03-02T00:00:00',\n",
       "  '-9999',\n",
       "  'day'),\n",
       " ('948_AK_SNTL',\n",
       "  14027,\n",
       "  '1981-10-01T00:00:00',\n",
       "  '2020-03-02T00:00:00',\n",
       "  '-9999',\n",
       "  'day'),\n",
       " ('950_AK_SNTL',\n",
       "  14392,\n",
       "  '1980-10-01T00:00:00',\n",
       "  '2020-03-02T00:00:00',\n",
       "  '-9999',\n",
       "  'day'),\n",
       " ('1002_AK_SNTL',\n",
       "  7453,\n",
       "  '1999-10-01T00:00:00',\n",
       "  '2020-03-02T00:00:00',\n",
       "  '-9999',\n",
       "  'day'),\n",
       " ('987_AK_SNTL',\n",
       "  7087,\n",
       "  '2000-10-01T00:00:00',\n",
       "  '2020-03-02T00:00:00',\n",
       "  '-9999',\n",
       "  'day'),\n",
       " ('955_AK_SNTL',\n",
       "  11105,\n",
       "  '1989-10-01T00:00:00',\n",
       "  '2020-03-02T00:00:00',\n",
       "  '-9999',\n",
       "  'day'),\n",
       " ('967_AK_SNTL',\n",
       "  11836,\n",
       "  '1987-10-01T00:00:00',\n",
       "  '2020-03-02T00:00:00',\n",
       "  '-9999',\n",
       "  'day'),\n",
       " ('1266_AK_SNTL',\n",
       "  2058,\n",
       "  '2014-07-09T00:00:00',\n",
       "  '2020-03-02T00:00:00',\n",
       "  '-9999',\n",
       "  'day'),\n",
       " ('951_AK_SNTL',\n",
       "  14027,\n",
       "  '1981-10-01T00:00:00',\n",
       "  '2020-03-02T00:00:00',\n",
       "  '-9999',\n",
       "  'day'),\n",
       " ('1089_AK_SNTL',\n",
       "  4988,\n",
       "  '2006-07-01T00:00:00',\n",
       "  '2020-03-02T00:00:00',\n",
       "  '-9999',\n",
       "  'day'),\n",
       " ('954_AK_SNTL',\n",
       "  13662,\n",
       "  '1982-10-01T00:00:00',\n",
       "  '2020-03-02T00:00:00',\n",
       "  '-9999',\n",
       "  'day'),\n",
       " ('952_AK_SNTL',\n",
       "  11836,\n",
       "  '1987-10-01T00:00:00',\n",
       "  '2020-03-02T00:00:00',\n",
       "  '-9999',\n",
       "  'day'),\n",
       " ('1090_AK_SNTL',\n",
       "  169,\n",
       "  '2019-09-10T10:00:00',\n",
       "  '2020-03-02T00:00:00',\n",
       "  '-9999',\n",
       "  'day'),\n",
       " ('1055_AK_SNTL',\n",
       "  5992,\n",
       "  '2003-10-01T00:00:00',\n",
       "  '2020-03-02T00:00:00',\n",
       "  '-9999',\n",
       "  'day')]"
      ]
     },
     "execution_count": 48,
     "metadata": {},
     "output_type": "execute_result"
    }
   ],
   "source": [
    "siteinfo_variable_extract"
   ]
  },
  {
   "cell_type": "markdown",
   "metadata": {
    "pycharm": {
     "name": "#%% md\n"
    }
   },
   "source": [
    "### Select a site, then request the time series for the variable selected above"
   ]
  },
  {
   "cell_type": "code",
   "execution_count": 49,
   "metadata": {
    "pycharm": {
     "name": "#%%\n"
    }
   },
   "outputs": [
    {
     "data": {
      "text/plain": [
       "('1093_AK_SNTL',\n",
       " 4226,\n",
       " '2008-08-01T00:00:00',\n",
       " '2020-03-02T00:00:00',\n",
       " '-9999',\n",
       " 'day')"
      ]
     },
     "execution_count": 49,
     "metadata": {},
     "output_type": "execute_result"
    }
   ],
   "source": [
    "site_idx = 5\n",
    "\n",
    "siteinfo_extract = siteinfo_variable_extract[site_idx]\n",
    "sitecd = siteinfo_extract[0]\n",
    "siteinfo_extract"
   ]
  },
  {
   "cell_type": "code",
   "execution_count": 50,
   "metadata": {
    "pycharm": {
     "name": "#%%\n"
    }
   },
   "outputs": [],
   "source": [
    "site_tsval = ulmo.cuahsi.wof.get_values(wsdlurl, \n",
    "                                        f\"{networkcd}:{siteinfo_extract[0]}\",\n",
    "                                        varcd,\n",
    "                                        start=siteinfo_extract[2], \n",
    "                                        end=siteinfo_extract[3])"
   ]
  },
  {
   "cell_type": "code",
   "execution_count": 51,
   "metadata": {
    "pycharm": {
     "name": "#%%\n"
    }
   },
   "outputs": [],
   "source": [
    "def site_series_values_to_df(series_values, variable_name, tzinfo=pytz.utc, nodata=None):\n",
    "    \"\"\" Create a clean timeseries list of (dt,val) tuples\n",
    "    \"\"\"\n",
    "    tsdt_tuplst = []\n",
    "    for valdict in series_values['values']:\n",
    "        value = float(valdict['value']) if float(valdict['value']) != float(nodata) else np.nan\n",
    "        dt_tz = convert_datetime(valdict['datetime']).replace(tzinfo=tzinfo)\n",
    "        tsdt_tuplst.append((dt_tz, value))\n",
    "\n",
    "    \n",
    "    dt, val = zip(*tsdt_tuplst)\n",
    "    ts_df = pd.DataFrame({'time':dt, variable_name:val})\n",
    "    ts_df.set_index('time', inplace=True)\n",
    "    ts_df.sort_index(ascending=True, inplace=True)\n",
    "    return ts_df"
   ]
  },
  {
   "cell_type": "code",
   "execution_count": 52,
   "metadata": {
    "pycharm": {
     "name": "#%%\n"
    }
   },
   "outputs": [],
   "source": [
    "ts_df = site_series_values_to_df(site_tsval, varcd, \n",
    "                                 tzinfo=pytz.timezone('US/Pacific'),\n",
    "                                 nodata=siteinfo_extract[-2])"
   ]
  },
  {
   "cell_type": "code",
   "execution_count": 53,
   "metadata": {
    "pycharm": {
     "name": "#%%\n"
    }
   },
   "outputs": [
    {
     "data": {
      "text/html": [
       "<div>\n",
       "<style scoped>\n",
       "    .dataframe tbody tr th:only-of-type {\n",
       "        vertical-align: middle;\n",
       "    }\n",
       "\n",
       "    .dataframe tbody tr th {\n",
       "        vertical-align: top;\n",
       "    }\n",
       "\n",
       "    .dataframe thead th {\n",
       "        text-align: right;\n",
       "    }\n",
       "</style>\n",
       "<table border=\"1\" class=\"dataframe\">\n",
       "  <thead>\n",
       "    <tr style=\"text-align: right;\">\n",
       "      <th></th>\n",
       "      <th>SNOTEL:WTEQ_D</th>\n",
       "    </tr>\n",
       "    <tr>\n",
       "      <th>time</th>\n",
       "      <th></th>\n",
       "    </tr>\n",
       "  </thead>\n",
       "  <tbody>\n",
       "    <tr>\n",
       "      <th>2020-02-20 23:53:00-08:00</th>\n",
       "      <td>3.6</td>\n",
       "    </tr>\n",
       "    <tr>\n",
       "      <th>2020-02-21 23:53:00-08:00</th>\n",
       "      <td>3.6</td>\n",
       "    </tr>\n",
       "    <tr>\n",
       "      <th>2020-02-22 23:53:00-08:00</th>\n",
       "      <td>3.3</td>\n",
       "    </tr>\n",
       "    <tr>\n",
       "      <th>2020-02-23 23:53:00-08:00</th>\n",
       "      <td>3.2</td>\n",
       "    </tr>\n",
       "    <tr>\n",
       "      <th>2020-02-24 23:53:00-08:00</th>\n",
       "      <td>2.9</td>\n",
       "    </tr>\n",
       "  </tbody>\n",
       "</table>\n",
       "</div>"
      ],
      "text/plain": [
       "                           SNOTEL:WTEQ_D\n",
       "time                                    \n",
       "2020-02-20 23:53:00-08:00            3.6\n",
       "2020-02-21 23:53:00-08:00            3.6\n",
       "2020-02-22 23:53:00-08:00            3.3\n",
       "2020-02-23 23:53:00-08:00            3.2\n",
       "2020-02-24 23:53:00-08:00            2.9"
      ]
     },
     "execution_count": 53,
     "metadata": {},
     "output_type": "execute_result"
    }
   ],
   "source": [
    "ts_df.tail()"
   ]
  },
  {
   "cell_type": "code",
   "execution_count": 54,
   "metadata": {
    "pycharm": {
     "name": "#%%\n"
    }
   },
   "outputs": [
    {
     "data": {
      "image/png": "[encoded data removed]",
      "text/plain": [
       "<Figure size 432x288 with 1 Axes>"
      ]
     },
     "metadata": {
      "needs_background": "light"
     },
     "output_type": "display_data"
    }
   ],
   "source": [
    "ts_df['SNOTEL:WTEQ_D'].plot();"
   ]
  },
  {
   "cell_type": "code",
   "execution_count": 55,
   "metadata": {
    "pycharm": {
     "name": "#%%\n"
    }
   },
   "outputs": [
    {
     "data": {
      "image/png": "[encoded data removed]",
      "text/plain": [
       "<Figure size 1008x432 with 1 Axes>"
      ]
     },
     "metadata": {
      "needs_background": "light"
     },
     "output_type": "display_data"
    }
   ],
   "source": [
    "fig, ax = plt.subplots(figsize=(14, 6))\n",
    "varlabel = ts_df.columns[0]\n",
    "ts_df[varlabel].plot(style='-', ax=ax)\n",
    "\n",
    "sitevariable = siteinfo['series'][varcd]['variable']\n",
    "ax.set_ylabel(f\"{sitevariable['name']} ({varlabel}), {sitevariable['units']['abbreviation']} / {siteinfo_extract[-1]}\")\n",
    "ax.set_title(f\"{networkcd}:{sitecd} | {siteinfo['name']}\");"
   ]
  },
  {
   "cell_type": "markdown",
   "metadata": {
    "pycharm": {
     "name": "#%% md\n"
    }
   },
   "source": [
    "## Get and parse information on all variables available from the SNOTEL service"
   ]
  },
  {
   "cell_type": "code",
   "execution_count": 56,
   "metadata": {
    "pycharm": {
     "name": "#%%\n"
    }
   },
   "outputs": [],
   "source": [
    "variable_info = ulmo.cuahsi.wof.get_variable_info(wsdlurl)"
   ]
  },
  {
   "cell_type": "code",
   "execution_count": 57,
   "metadata": {
    "pycharm": {
     "name": "#%%\n"
    }
   },
   "outputs": [
    {
     "data": {
      "text/plain": [
       "314"
      ]
     },
     "execution_count": 57,
     "metadata": {},
     "output_type": "execute_result"
    }
   ],
   "source": [
    "len(variable_info.keys())"
   ]
  },
  {
   "cell_type": "code",
   "execution_count": 58,
   "metadata": {
    "pycharm": {
     "name": "#%%\n"
    }
   },
   "outputs": [
    {
     "data": {
      "text/plain": [
       "{'value_type': 'Field Observation',\n",
       " 'data_type': 'Continuous',\n",
       " 'general_category': 'Soil',\n",
       " 'sample_medium': 'Air',\n",
       " 'no_data_value': '-9999',\n",
       " 'speciation': 'Not Applicable',\n",
       " 'code': 'DPTP_H',\n",
       " 'id': '7',\n",
       " 'name': 'Temperature, dew point',\n",
       " 'vocabulary': 'SNOTEL',\n",
       " 'time': {'is_regular': True,\n",
       "  'interval': '1',\n",
       "  'units': {'abbreviation': 'hr',\n",
       "   'code': '103',\n",
       "   'name': 'hour',\n",
       "   'type': 'Time'}},\n",
       " 'units': {'abbreviation': 'degF',\n",
       "  'code': '97',\n",
       "  'name': 'degree fahrenheit',\n",
       "  'type': 'Temperature'}}"
      ]
     },
     "execution_count": 58,
     "metadata": {},
     "output_type": "execute_result"
    }
   ],
   "source": [
    "variable_info['SNOTEL:DPTP_H']"
   ]
  },
  {
   "cell_type": "markdown",
   "metadata": {
    "pycharm": {
     "name": "#%% md\n"
    }
   },
   "source": [
    "Iterate to find and print out all variables with 'name' = 'Snow water equivalent'. Extract variable codes and associate, useful information."
   ]
  },
  {
   "cell_type": "code",
   "execution_count": 59,
   "metadata": {
    "pycharm": {
     "name": "#%%\n"
    }
   },
   "outputs": [
    {
     "data": {
      "text/plain": [
       "[('WTEQ_D', 'international inch', '-9999', True, True, '1', 'day'),\n",
       " ('WTEQ_H', 'international inch', '-9999', True, True, '1', 'hour'),\n",
       " ('WTEQ_m', 'international inch', '-9999', True, True, '1', 'month'),\n",
       " ('WTEQ_sm', 'international inch', '-9999', True, True, '0', 'month')]"
      ]
     },
     "execution_count": 59,
     "metadata": {},
     "output_type": "execute_result"
    }
   ],
   "source": [
    "select_variables = [\n",
    "    (v['code'], v['units']['name'], v['no_data_value'], v['time']['is_regular'], \n",
    "     v['time']['is_regular'], v['time']['interval'], v['time']['units']['name']) \n",
    "    for _,v in variable_info.items() \n",
    "    if v['name'] == 'Snow water equivalent'\n",
    "]\n",
    "select_variables"
   ]
  },
  {
   "cell_type": "markdown",
   "metadata": {
    "pycharm": {
     "name": "#%% md\n"
    }
   },
   "source": [
    "## MountainHub observations"
   ]
  },
  {
   "cell_type": "markdown",
   "metadata": {
    "pycharm": {
     "name": "#%% md\n"
    }
   },
   "source": [
    "Sometimes the MountainHub request hangs, then fails. In those cases, it almost always works on the second try."
   ]
  },
  {
   "cell_type": "code",
   "execution_count": 60,
   "metadata": {
    "pycharm": {
     "name": "#%%\n"
    }
   },
   "outputs": [],
   "source": [
    "mh_obs = mh.snow_data(limit=10000000, start=datetime(2019,11,9), bbox=box)"
   ]
  },
  {
   "cell_type": "code",
   "execution_count": 61,
   "metadata": {
    "pycharm": {
     "name": "#%%\n"
    }
   },
   "outputs": [],
   "source": [
    "mh_obs_gdf = gpd.GeoDataFrame(\n",
    "    mh_obs, \n",
    "    geometry=gpd.points_from_xy(mh_obs['longitude'], mh_obs['latitude'])\n",
    ")"
   ]
  },
  {
   "cell_type": "markdown",
   "metadata": {
    "pycharm": {
     "name": "#%% md\n"
    }
   },
   "source": [
    "## Plot SNOTEL sites and MountainHub obs on interactive Folium map"
   ]
  },
  {
   "cell_type": "code",
   "execution_count": 62,
   "metadata": {
    "pycharm": {
     "name": "#%%\n"
    }
   },
   "outputs": [],
   "source": [
    "m = folium.Map(tiles='Stamen terrain')"
   ]
  },
  {
   "cell_type": "markdown",
   "metadata": {
    "pycharm": {
     "name": "#%% md\n"
    }
   },
   "source": [
    "Blue markers are SNOTEL sites, red markers are MountainHub observations."
   ]
  },
  {
   "cell_type": "code",
   "execution_count": 63,
   "metadata": {
    "pycharm": {
     "name": "#%%\n"
    }
   },
   "outputs": [],
   "source": [
    "# SNOTEL\n",
    "for idx, row in sites_box_gdf.iterrows():\n",
    "    folium.Marker(location=[row['latitude'], row['longitude']], \n",
    "                  icon=folium.Icon(color='blue'),\n",
    "                  popup=\"<b>{0}</b></br>{1}</br>Elevation (m): {2}\".format(\n",
    "                      row['code'], row['name'], row['elevation_m'])\n",
    "                 ).add_to(m)\n",
    "\n",
    "# MountainHub\n",
    "for idx, row in mh_obs_gdf.iterrows():\n",
    "    folium.Marker(location=[row['latitude'], row['longitude']], \n",
    "                  icon=folium.Icon(color='red'),\n",
    "                  popup=\"<b>{0}: {1:.1f}</b></br>{2}. Observation type: {3}</b> {4}\".format(\n",
    "                      row['datetime_utc'], row['snow_depth'], \n",
    "                      row['author_name'], row['obs_type'], row['description'])\n",
    "                 ).add_to(m)"
   ]
  },
  {
   "cell_type": "markdown",
   "metadata": {
    "pycharm": {
     "name": "#%% md\n"
    }
   },
   "source": [
    "Add the search area box"
   ]
  },
  {
   "cell_type": "code",
   "execution_count": 64,
   "metadata": {
    "pycharm": {
     "name": "#%%\n"
    }
   },
   "outputs": [],
   "source": [
    "folium.GeoJson(\n",
    "    box_gdf,\n",
    "    name='Search Area'\n",
    ").add_to(m);\n",
    "\n",
    "# folium.LayerControl().add_to(m)"
   ]
  },
  {
   "cell_type": "code",
   "execution_count": 65,
   "metadata": {
    "pycharm": {
     "name": "#%%\n"
    }
   },
   "outputs": [
    {
     "data": {
      "text/html": [
       "<div style=\"width:100%;\"><div style=\"position:relative;width:100%;height:0;padding-bottom:60%;\"><iframe src=\"about:blank\" style=\"position:absolute;width:100%;height:100%;left:0;top:0;border:none !important;\" data-html=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 onload=\"this.contentDocument.open();this.contentDocument.write(atob(this.getAttribute('data-html')));this.contentDocument.close();\" allowfullscreen webkitallowfullscreen mozallowfullscreen></iframe></div></div>"
      ],
      "text/plain": [
       "<folium.folium.Map at 0x7f446c03efd0>"
      ]
     },
     "execution_count": 65,
     "metadata": {},
     "output_type": "execute_result"
    }
   ],
   "source": [
    "# Set the map extent (bounds) to the extent of the sites\n",
    "m.fit_bounds(m.get_bounds())\n",
    "\n",
    "m"
   ]
  },
  {
   "cell_type": "code",
   "execution_count": null,
   "metadata": {
    "pycharm": {
     "name": "#%%\n"
    }
   },
   "outputs": [],
   "source": []
  }
 ],
 "metadata": {
  "kernelspec": {
   "display_name": "Python [conda env:whwtimeseries_cso]",
   "language": "python",
   "name": "conda-env-whwtimeseries_cso-py"
  },
  "language_info": {
   "codemirror_mode": {
    "name": "ipython",
    "version": 3
   },
   "file_extension": ".py",
   "mimetype": "text/x-python",
   "name": "python",
   "nbconvert_exporter": "python",
   "pygments_lexer": "ipython3",
   "version": "3.6.7"
  },
  "toc-autonumbering": true
 },
 "nbformat": 4,
 "nbformat_minor": 4
}